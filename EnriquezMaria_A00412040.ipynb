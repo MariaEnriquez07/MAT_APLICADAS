{
  "nbformat": 4,
  "nbformat_minor": 0,
  "metadata": {
    "colab": {
      "provenance": [],
      "authorship_tag": "ABX9TyNKCUhsPhMgzKjdaFgb5law",
      "include_colab_link": true
    },
    "kernelspec": {
      "name": "python3",
      "display_name": "Python 3"
    },
    "language_info": {
      "name": "python"
    }
  },
  "cells": [
    {
      "cell_type": "markdown",
      "metadata": {
        "id": "view-in-github",
        "colab_type": "text"
      },
      "source": [
        "<a href=\"https://colab.research.google.com/github/MariaEnriquez07/MAT_APLICADAS/blob/main/EnriquezMaria_A00412040.ipynb\" target=\"_parent\"><img src=\"https://colab.research.google.com/assets/colab-badge.svg\" alt=\"Open In Colab\"/></a>"
      ]
    },
    {
      "cell_type": "markdown",
      "source": [
        "\n",
        "###AUTOBIOGRAFÍA\n",
        "\n",
        "Mi nombre es Maria Alejandra Enríquez Marin, nací el 22 de Junio de 2007 en Cali donde viví 3 años. Inicié la universidad en el periodo 2024-2."
      ],
      "metadata": {
        "id": "8NWNcvIM94mn"
      }
    },
    {
      "cell_type": "markdown",
      "source": [
        "<img src = https://i.dawn.com/large/2020/06/5ef391bb4173d.jpg />"
      ],
      "metadata": {
        "id": "rQcA7lWOA9qD"
      }
    },
    {
      "cell_type": "markdown",
      "source": [
        "\n",
        "##LISTA DE 5 CANCIONES\n",
        "1. Videogames\n",
        ">*Lana del rey*\n",
        "2. Ocean ayes\n",
        ">*Billie Eilish*\n",
        "4. Caroline\n",
        ">*Manekin*\n",
        "4. Souvenir\n",
        ">*Selena Gomez*\n",
        "5. To build a home\n",
        "> *Cinematic orchestra*"
      ],
      "metadata": {
        "id": "gX8y03NNBpA5"
      }
    },
    {
      "cell_type": "markdown",
      "source": [
        "| Asignatura |    Razón     |\n",
        "|------------|--------------|\n",
        "|Aplicadas.  |Es interesante|\n",
        "|------------|--------------|\n",
        "|APO 1.      |Me entretiene |\n",
        "|------------|--------------|\n",
        "|Ing Software|Es retadora.  |"
      ],
      "metadata": {
        "id": "08tks0kPDck4"
      }
    }
  ]
}