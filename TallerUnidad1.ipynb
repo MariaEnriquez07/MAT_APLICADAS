{
  "nbformat": 4,
  "nbformat_minor": 0,
  "metadata": {
    "colab": {
      "provenance": [],
      "include_colab_link": true
    },
    "kernelspec": {
      "name": "python3",
      "display_name": "Python 3"
    },
    "language_info": {
      "name": "python"
    }
  },
  "cells": [
    {
      "cell_type": "markdown",
      "metadata": {
        "id": "view-in-github",
        "colab_type": "text"
      },
      "source": [
        "<a href=\"https://colab.research.google.com/github/MariaEnriquez07/MAT_APLICADAS/blob/main/TallerUnidad1.ipynb\" target=\"_parent\"><img src=\"https://colab.research.google.com/assets/colab-badge.svg\" alt=\"Open In Colab\"/></a>"
      ]
    },
    {
      "cell_type": "markdown",
      "source": [
        "Taller\n",
        "* Álvaro José Roa Álvarez A00412341\n",
        "* Yeisson Alejandro Cortes Ruiz A00\n",
        "* María Camila Córdoba A00412038\n",
        "* Maria Alejandra Enriquez Marin A00412040\n",
        "\n",
        "\n",
        "\n"
      ],
      "metadata": {
        "id": "-Lz47qr983y1"
      }
    },
    {
      "cell_type": "code",
      "source": [
        "import numpy as np\n",
        "import matplotlib.pyplot as plt"
      ],
      "metadata": {
        "id": "nnCRR_44NCPJ"
      },
      "execution_count": null,
      "outputs": []
    },
    {
      "cell_type": "markdown",
      "source": [
        "#Ejercicios 1.2"
      ],
      "metadata": {
        "id": "3f6u18mkISHw"
      }
    },
    {
      "cell_type": "markdown",
      "source": [
        "1)"
      ],
      "metadata": {
        "id": "JzZT9fckLTIz"
      }
    },
    {
      "cell_type": "markdown",
      "source": [
        "\n",
        "\n",
        "*   a) $a_{n} = \\left\\{\\frac{1}{3^{n}} \\right\\}$\n",
        "\n",
        "*   b) $a_{n} = \\left\\{\\frac{1}{n} \\right\\}$\n",
        "\n",
        "*   c) $a_{n} = \\left\\{\\frac{2n+1}{n+1} \\right\\}_{n=0}$\n",
        "\n",
        "*   d) $a_{n} = \\left\\{\\frac{-1^{n}}{2n+1} \\right\\}$\n",
        "\n",
        "\n",
        "\n"
      ],
      "metadata": {
        "id": "B_eX_X6hMCAk"
      }
    },
    {
      "cell_type": "markdown",
      "source": [
        "2)"
      ],
      "metadata": {
        "id": "hhDu87RjVauU"
      }
    },
    {
      "cell_type": "markdown",
      "source": [
        "a) Coverge dado que en la secuencia el n-esimo termino tiende a 0 (el demominador se hace mas grande miestras que el denominador es constante)\n",
        "\n",
        "$\\frac{1}{\\infty} = 0$\n",
        "\n",
        "$\\lim_{x \\to \\infty} \\frac{1}{3n}= 0$\n",
        "\n",
        "b) Diverge porque $a_{n} =\\pi^{n}$ es una sucesion exponencial creciente (exponente positivo)\n",
        "\n",
        "c) Converge\n",
        "\n",
        "$\\lim_{x \\to \\infty} \\frac{3n-1}{2n+6}= \\frac{3}{2}$\n",
        "\n",
        "d) $c_{n} =\\cos\\left(\\pi n \\right)$ diverge por que no tiene limite, no se acerca a un valor;\n",
        "\n",
        "e) $a_{n} = \\frac{3n^{4}- 6n^{3}+1}{5n^{3}+n^{2}+2}$ diverge ya que según los criterios de comparacion: grado numerador > grado denominador, no tiene asintota horizontal.\n",
        "\n",
        "f) $b_{n} = \\frac{2n^{5}- 3n^{2}+23}{7n^{5}+13n^{4}+12}$ converge ya que según los criterios de comparacion: grado numerador = grado denominador, tiene asintota horizontal en $\\frac{2}{7}$.\n",
        "\n",
        "$\\lim_{x \\to \\infty} \\frac{2n^{5}- 3n^{2}+23}{7n^{5}+13n^{4}+12}= \\frac{2}{7}$\n",
        "\n",
        "g) $c_{n} = \\frac{45- 3n^{2}+23}{7n^{5}+13n^{4}+12}$ converge ya que según los criterios de comparacion: grado numerador = grado denominador, tiene asintota horizontal en $\\frac{2}{7}$.\n",
        "\n",
        "h) $b_{n}=\\frac{3n+1}{\\sqrt{4n^{2}+1}}$ converge ya que grado numerador ($2n$)= grado denominador ($\\sqrt{4n^{2}} = 2n$), por lo que tiene asintota horizontal en $\\frac{3}{2}$.\n",
        "\n",
        "$\\lim_{x \\to \\infty}\\frac{3n+1}{\\sqrt{4n^{2}+1}}=\\frac{3}{2}$\n",
        "\n",
        "i) $a_{n}=\\left( -2 \\right)^{2n+1}$ diverge por que es una sucesion de tipo alternante por lo que nunca se acerca a un valor.\n",
        "\n",
        "j) $a_{n}=\\frac{10-16n^{3}}{1+n^{2}}$ diverge\n",
        "\n",
        "k) $a_{n}=\\sqrt{\\frac{3n^{2}+n-6}{5n^{2}+16}}$ converge.\n",
        "\n",
        "$\\lim_{x \\to \\infty}\\sqrt{\\frac{3n^{2}+n-6}{5n^{2}+16}}=\\sqrt{\\frac{3}{5}}$\n",
        "\n",
        "l) $b_{n}= \\frac{(-1)^{n}}{5^{n}}$ converge por que aunque alternan signos su valor se hace cada vez mas pequeño, acercandose a 0.\n",
        "\n",
        "$\\lim_{x \\to \\infty}\\frac{(-1)^{n}}{5^{n}}=0$"
      ],
      "metadata": {
        "id": "xY0DigwPVcQy"
      }
    },
    {
      "cell_type": "markdown",
      "source": [],
      "metadata": {
        "id": "M3RBjsCyFF53"
      }
    },
    {
      "cell_type": "markdown",
      "source": [],
      "metadata": {
        "id": "D977ClFN9SGH"
      }
    },
    {
      "cell_type": "markdown",
      "source": [
        "3) Explica porque..."
      ],
      "metadata": {
        "id": "Iffr9qFM_CU3"
      }
    },
    {
      "cell_type": "markdown",
      "source": [
        "$$-\\frac{1}{n} \\leq \\frac{\\sin(n)}{n} \\leq \\frac{1}{n}$$"
      ],
      "metadata": {
        "id": "YUmma1u3_LX4"
      }
    },
    {
      "cell_type": "markdown",
      "source": [
        "Para n = 1,2,3,...    Que puedes concluir para: $$\\lim_{n \\to \\infty} \\frac{\\sin(n)}{n} ?$$"
      ],
      "metadata": {
        "id": "7MjgJWD6_GY3"
      }
    },
    {
      "cell_type": "markdown",
      "source": [
        "$$-\\frac{1}{n}$$ para n = 1,2,3... ===> $$-\\frac{1}{1}$$ = -1, $$-\\frac{1}{2}$$ , $$-\\frac{1}{3}$$"
      ],
      "metadata": {
        "id": "aehN-XzVv19f"
      }
    },
    {
      "cell_type": "markdown",
      "source": [
        "$$\\frac{1}{n}$$ para n = 1,2,3... ===> $$\\frac{1}{1}$$ = 1, $$\\frac{1}{2}$$ , $$\\frac{1}{3}$$"
      ],
      "metadata": {
        "id": "3XC5e0lSx1eE"
      }
    },
    {
      "cell_type": "markdown",
      "source": [
        "Según el teorema del emparedado, cuando An ≤ Bn ≤  Cn, si An y Cn convergen a un límite, Bn tambien converge a ese mismo límite. Teniendo en cuenta que están acotados por los mismos valores, se puede decir que se acerca poco a poco a 0 por ambos extremos puesto que la función es trigonométrica, es senoidal pero al acercarse cada vez mas a cero no se dice que diverge por oscilación."
      ],
      "metadata": {
        "id": "iap8vVN9Br6m"
      }
    },
    {
      "cell_type": "markdown",
      "source": [
        "#4)"
      ],
      "metadata": {
        "id": "GehzXUS8y-67"
      }
    },
    {
      "cell_type": "code",
      "source": [
        "import numpy as np\n",
        "import matplotlib.pyplot as plt\n",
        "x=np.linspace(1,200,200)\n",
        "e=2.71828\n",
        "def sucesion(n):\n",
        "  an=(1+1/n)**n\n",
        "  return an\n",
        "y=[e for x in x]\n",
        "z=[sucesion(x) for x in x]\n",
        "print(f\"{sucesion(73):.5f}\")\n",
        "print(f\"{sucesion(136):.5f}\")\n",
        "#Entre 73 y 74\n",
        "plt.plot(x,y,label=\"e\")\n",
        "plt.plot(x,z,label=\"sucesion\")\n",
        "plt.xlabel(\"n\")\n",
        "plt.ylabel(\"an\")\n",
        "plt.title(\"Gráfica de la sucesión\")\n",
        "plt.legend()\n",
        "plt.grid()\n",
        "plt.show()"
      ],
      "metadata": {
        "colab": {
          "base_uri": "https://localhost:8080/",
          "height": 507
        },
        "id": "xlIhFKJKzRIu",
        "outputId": "001f4d77-307f-4c1a-fbbe-fa1b851e3cea"
      },
      "execution_count": null,
      "outputs": [
        {
          "output_type": "stream",
          "name": "stdout",
          "text": [
            "2.69989\n",
            "2.70836\n"
          ]
        },
        {
          "output_type": "display_data",
          "data": {
            "text/plain": [
              "<Figure size 640x480 with 1 Axes>"
            ],
            "image/png": "[encoded data removed]"
          },
          "metadata": {}
        }
      ]
    },
    {
      "cell_type": "markdown",
      "source": [
        "|An - ℯ| < 0,01\n",
        "\n",
        "\n",
        "-(An - ℯ) < 0,01 --> An > -0,01 + ℯ  --> An > 2.70828\n",
        "\n",
        "\n",
        "An - ℯ < 0,01 --> An < 0,01 + ℯ --> An < 2.72828\n",
        "\n",
        "2.70828 < $\\left( 1 + \\frac{1}{n} \\right)^n$ < 2.72828\n",
        "\n",
        "$$135≤n≤99999$$\n",
        "\n",
        "Por ende, el menor valor que debe tomar n es el 135"
      ],
      "metadata": {
        "id": "F8ZmOyZO19bf"
      }
    },
    {
      "cell_type": "markdown",
      "source": [
        "5)"
      ],
      "metadata": {
        "id": "5G2libuNpVgG"
      }
    },
    {
      "cell_type": "code",
      "source": [
        "def a_n(n):\n",
        "  return n*np.sin(1/n)\n",
        "\n",
        "# a\n",
        "n_valores_a = [1, 2, 3, 4, 5]\n",
        "a_valores_a = [a_n(n) for n in n_valores_a]\n",
        "print(\"(a) valores de a_n para n = 1, 2, 3, 4, 5:\")\n",
        "print(\"n | a_n\")\n",
        "print(\"--|----------------\")\n",
        "for i in range(len(n_valores_a)):\n",
        "  print(n_valores_a[i], \"|\", a_valores_a[i])\n",
        "\n",
        "#b\n",
        "n_valor = np.arange(1, 201)\n",
        "a_valor = [a_n(n) for n in n_valor]\n",
        "\n",
        "#c\n",
        "plt.plot(n_valor, a_valor, 'o', label=r'$a_n = n \\sin(1/n)$')\n",
        "plt.axhline(y=1, color='r', linestyle='--', label='y=1')\n",
        "plt.xlabel(\"n\")\n",
        "plt.ylabel(r\"$a_n$\")\n",
        "plt.title(\"Gráfica de la sucesión\")\n",
        "plt.grid()\n",
        "plt.show()\n",
        "\n",
        "#d\n",
        "limite_aprox = a_valor[-1]\n",
        "print(\"(d) Ultimo valor calculado: \", limite_aprox)\n",
        "print(\"Parece razonable que lim (n-> Infinito) a_n = 1 porque los valores se acercan a 1.\")\n",
        "\n",
        "#e\n",
        "for n in n_valor:\n",
        "  if a_n(n) > 0.999:\n",
        "    print(f\"(e) El menor n para el cual a_n > 0.999 es {n}\")\n",
        "    break\n",
        "#f\n",
        "for n in n_valor:\n",
        "  if -0.0001 <(a_n(n)-1) < 0.0001:\n",
        "    print(f\"(f) El primer n para el cual a_n - 1 < 0.0001 y 1 - a_n < 0.0001 es {n} \")\n",
        "    break"
      ],
      "metadata": {
        "colab": {
          "base_uri": "https://localhost:8080/",
          "height": 693
        },
        "id": "AwWb_VXXpXJ6",
        "outputId": "ec1557be-5db8-4ab1-cc3a-d3698f210d61"
      },
      "execution_count": null,
      "outputs": [
        {
          "output_type": "stream",
          "name": "stdout",
          "text": [
            "(a) valores de a_n para n = 1, 2, 3, 4, 5:\n",
            "n | a_n\n",
            "--|----------------\n",
            "1 | 0.8414709848078965\n",
            "2 | 0.958851077208406\n",
            "3 | 0.9815840903884566\n",
            "4 | 0.9896158370180917\n",
            "5 | 0.9933466539753061\n"
          ]
        },
        {
          "output_type": "display_data",
          "data": {
            "text/plain": [
              "<Figure size 640x480 with 1 Axes>"
            ],
            "image/png": "[encoded data removed]"
          },
          "metadata": {}
        },
        {
          "output_type": "stream",
          "name": "stdout",
          "text": [
            "(d) Ultimo valor calculado:  0.9999958333385416\n",
            "Parece razonable que lim (n-> Infinito) a_n = 1 porque los valores se acercan a 1.\n",
            "(e) El menor n para el cual a_n > 0.999 es 13\n",
            "(f) El primer n para el cual a_n - 1 < 0.0001 y 1 - a_n < 0.0001 es 41 \n"
          ]
        }
      ]
    },
    {
      "cell_type": "markdown",
      "source": [
        "8)"
      ],
      "metadata": {
        "id": "ghuxenzDKyMe"
      }
    },
    {
      "cell_type": "code",
      "source": [
        "def a_n(n):\n",
        "    return 10 * (1/3) ** (n - 1)\n",
        "\n",
        "n_valores = np.arange(1, 51)\n",
        "a_valores = [a_n(n) for n in n_valores]\n",
        "\n",
        "plt.plot(n_valores, a_valores, 'b:', label=r'$a_n = \\frac{1}{3} a_{n-1}$ con $a_1 = 10$')\n",
        "\n",
        "plt.xlabel(\"n\")\n",
        "plt.ylabel(r\"$a_n$\")\n",
        "plt.title(\"Gráfica de la sucesión\")\n",
        "plt.axhline(y=0, color='r', linestyle=\":\", label=\"Límite esperado\")\n",
        "plt.legend()\n",
        "plt.grid()\n",
        "plt.show()\n",
        "\n",
        "print(\"Valores de la sucesion para comprobar si se acerca a 0:\")\n",
        "for n in [1, 10, 50, 100, 500, 1000]:\n",
        "  print(f\"a_{n} = \", 10*(1/3)** (n-1))\n",
        "\n",
        "print(\"La sucesión tiene un límite y es 0.\")"
      ],
      "metadata": {
        "id": "JF3V4F3vK408",
        "colab": {
          "base_uri": "https://localhost:8080/",
          "height": 620
        },
        "outputId": "1cef429b-7891-4061-ce3e-ea9a3fdab9b0"
      },
      "execution_count": null,
      "outputs": [
        {
          "output_type": "display_data",
          "data": {
            "text/plain": [
              "<Figure size 640x480 with 1 Axes>"
            ],
            "image/png": "[encoded data removed]"
          },
          "metadata": {}
        },
        {
          "output_type": "stream",
          "name": "stdout",
          "text": [
            "Valores de la sucesion para comprobar si se acerca a 0:\n",
            "a_1 =  10.0\n",
            "a_10 =  0.0005080526342529084\n",
            "a_50 =  4.178866707295603e-23\n",
            "a_100 =  5.820975652447867e-47\n",
            "a_500 =  8.250758868609187e-238\n",
            "a_1000 =  0.0\n",
            "La sucesión tiene un límite y es 0.\n"
          ]
        }
      ]
    },
    {
      "cell_type": "markdown",
      "source": [
        "#Ejercicios 1.3"
      ],
      "metadata": {
        "id": "XQqwg7T-I3A9"
      }
    },
    {
      "cell_type": "markdown",
      "source": [
        "1) Encuentra la suma (serie)"
      ],
      "metadata": {
        "id": "J7WkolxmOW_2"
      }
    },
    {
      "cell_type": "markdown",
      "source": [
        "a) $\\sum_{n=1}^{\\infty} \\left(  \\frac{1}{3}\\right)^{n-1} = \\frac{3}{2} $\n",
        "\n",
        "b) $\\sum_{n=1}^{\\infty} \\left(  4(0.21)\\right)^{n-1} = \\frac{400}{79} $\n",
        "\n",
        "c) $\\sum_{n=1}^{\\infty} \\frac{2}{5^n} = \\frac{1}{2}$\n",
        "\n",
        "d)$\\sum_{n=0}^{\\infty} \\frac{2}{7^n} = \\frac{7}{3}$\n",
        "\n",
        "e) $\\sum_{n=1}^{\\infty} 7 \\left( \\frac{1}{3} \\right)^{n-1} = \\frac{21}{2}$\n",
        "\n",
        "f) $\\sum_{n=1}^{\\infty} e^n \\left( \\frac{2}{3} \\right)^{n-1}$ Diverge\n",
        "\n",
        "g) $\\sum_{n=1}^{\\infty} \\left( \\frac{2}{3} \\right)^{n-1} = 3$\n",
        "\n",
        "h) $\\sum_{n=1}^{\\infty} 0.99999^n = 99999$\n",
        "\n",
        "i) $\\sum_{n=1}^{\\infty} 1.00001^n \\quad$ Diverge\n",
        "\n",
        "j) $\\sum_{n=30}^{\\infty} 5 \\left( \\frac{3\\pi}{7} \\right)^{n-1}$ Diverge\n",
        "\n",
        "k) $\\sum_{n=100}^{\\infty} \\left( \\frac{91}{89} \\right)^{n-1}$ Diverge\n",
        "\n",
        "l) $\\sum_{n=1}^{\\infty} \\left( \\frac{\\pi}{4} \\right)^n = \\frac{\\pi}{4 - \\pi}$\n",
        "\n",
        "m) $\\sum_{n=1}^{\\infty} \\sin(n\\pi) = 0$\n",
        "\n",
        "n) $\\sum_{n=1}^{\\infty} \\cos(n\\pi) = \\sum_{n=1}^{\\infty} (-1)^n$ Diverge"
      ],
      "metadata": {
        "id": "0HoSE0BqKef0"
      }
    },
    {
      "cell_type": "code",
      "source": [],
      "metadata": {
        "id": "D_UJUpRtOf1f"
      },
      "execution_count": null,
      "outputs": []
    },
    {
      "cell_type": "markdown",
      "source": [],
      "metadata": {
        "id": "MNRkPMYYKcOg"
      }
    },
    {
      "cell_type": "markdown",
      "source": [
        "7)"
      ],
      "metadata": {
        "id": "YevVoSAXHt6-"
      }
    },
    {
      "cell_type": "code",
      "source": [
        "h0= 10\n",
        "r1= 0.75\n",
        "r2= 0.25\n",
        "\n",
        "#caso1\n",
        "\n",
        "S1 = h0 + 2 *(h0*r1)/(1-r1)\n",
        "\n",
        "#caso2\n",
        "\n",
        "S2 = h0 + 2 * (h0*r2)/(1-r2)\n",
        "\n",
        "\n",
        "#resultados\n",
        "print(\"Distancia total recorrida si rebota al 75% de la altura: \", S1, \" metros\")\n",
        "print(\"Distancia total recorrida si rebota al 25% de la altura: \", S2, \" metros\")"
      ],
      "metadata": {
        "colab": {
          "base_uri": "https://localhost:8080/"
        },
        "id": "aUKvm9MIHvVF",
        "outputId": "8d3b1a36-8114-4bc3-fc19-aeb21d50283a"
      },
      "execution_count": null,
      "outputs": [
        {
          "output_type": "stream",
          "name": "stdout",
          "text": [
            "Distancia total recorrida si rebota al 75% de la altura:  70.0  metros\n",
            "Distancia total recorrida si rebota al 25% de la altura:  16.666666666666668  metros\n"
          ]
        }
      ]
    },
    {
      "cell_type": "markdown",
      "source": [
        "#9)\n",
        "\n",
        "$A1=2$ -------------- $A(n+1) = 2An$"
      ],
      "metadata": {
        "id": "hlzltpqNV7vV"
      }
    },
    {
      "cell_type": "code",
      "source": [
        "import numpy as np\n",
        "import matplotlib.pyplot as plt\n",
        "def a_n(n):\n",
        "  return (n*2)\n",
        "n_valores = np.arange(1, 50)\n",
        "a_valores = [a_n(n) for n in n_valores]\n",
        "\n",
        "plt.plot(n_valores, a_valores, 'b:', label=r'$a_n = 2a_{n-1}$')\n",
        "\n",
        "plt.xlabel(\"n\")\n",
        "plt.ylabel(r\"$a_n$\")\n",
        "plt.title(\"Gráfica de la sucesión\")\n",
        "plt.axhline(y=0, color='r', linestyle=\":\", label=\"Límite esperado\")\n",
        "plt.legend()\n",
        "plt.grid()\n",
        "plt.show()"
      ],
      "metadata": {
        "colab": {
          "base_uri": "https://localhost:8080/",
          "height": 472
        },
        "id": "lq0P9-PyV8tl",
        "outputId": "14fddf97-19a3-455b-9eb4-23ce9007afb6"
      },
      "execution_count": null,
      "outputs": [
        {
          "output_type": "display_data",
          "data": {
            "text/plain": [
              "<Figure size 640x480 with 1 Axes>"
            ],
            "image/png": "[encoded data removed]"
          },
          "metadata": {}
        }
      ]
    },
    {
      "cell_type": "markdown",
      "source": [
        "Como se puede ver, incluso si aumentara la cantidad de n a analizar, la gráfica mantendria su variación lineal, haciendo que no tenga límite y no se pueda aplicar el mismo método como en el punto 8."
      ],
      "metadata": {
        "id": "gs6cHioOXC6I"
      }
    },
    {
      "cell_type": "markdown",
      "source": [
        "#13) Encuentra pares de suceciones que individualmente diverjan pero que al sumarse converjan\n",
        "\n",
        "Ejemplo 1:\n",
        "\n",
        "$a_n = (-1)^n n$\n",
        "\n",
        "$b_n = (-1)^{n+1} n$\n",
        "\n",
        "$$a_n + b_n = (-1)^n n + (-1)^{n+1} n = 0$$"
      ],
      "metadata": {
        "id": "4PFwnFFdaBh7"
      }
    },
    {
      "cell_type": "code",
      "source": [
        "import numpy as np\n",
        "\n",
        "def UmbralArmonico(umbral):\n",
        "    x = 1\n",
        "    suma = 0\n",
        "    while suma <= umbral:\n",
        "        suma += 1 / x\n",
        "        x += 1\n",
        "    return x - 1\n",
        "\n",
        "x5 = UmbralArmonico(5)\n",
        "x10 = UmbralArmonico(10)\n",
        "\n",
        "print(\"Para que la suma parcial sea mayor a 5 se necesitan \" + x5 + \" términos por lo menos.\")\n",
        "print(\"Para que la suma parcial sea mayor a 10 se necesitan \" + x10 + \"términos por lo menos.\")\n"
      ],
      "metadata": {
        "colab": {
          "base_uri": "https://localhost:8080/"
        },
        "id": "aRd-usLvf5Jm",
        "outputId": "7736dc4d-68ff-4371-c829-2932e115994e"
      },
      "execution_count": null,
      "outputs": [
        {
          "output_type": "stream",
          "name": "stdout",
          "text": [
            "Para que la suma parcial sea mayor que 5, se necesitan al menos 83 términos.\n",
            "Para que la suma parcial sea mayor que 10, se necesitan al menos 12367 términos.\n"
          ]
        }
      ]
    }
  ]
}