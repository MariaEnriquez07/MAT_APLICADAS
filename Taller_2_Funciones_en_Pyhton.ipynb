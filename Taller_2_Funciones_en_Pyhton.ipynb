{
  "nbformat": 4,
  "nbformat_minor": 0,
  "metadata": {
    "colab": {
      "provenance": [],
      "include_colab_link": true
    },
    "kernelspec": {
      "name": "python3",
      "display_name": "Python 3"
    },
    "language_info": {
      "name": "python"
    }
  },
  "cells": [
    {
      "cell_type": "markdown",
      "metadata": {
        "id": "view-in-github",
        "colab_type": "text"
      },
      "source": [
        "<a href=\"https://colab.research.google.com/github/MariaEnriquez07/MAT_APLICADAS/blob/main/Taller_2_Funciones_en_Pyhton.ipynb\" target=\"_parent\"><img src=\"https://colab.research.google.com/assets/colab-badge.svg\" alt=\"Open In Colab\"/></a>"
      ]
    },
    {
      "cell_type": "markdown",
      "source": [
        "#**Integrantes**:\n",
        "*   Maria Alejandra Enriquez - A00412040\n",
        "*   Maria Camila Cordoba - A00412038\n",
        "*   Alvaro Jose Roa Alvarez - A00412341\n",
        "*   Yeisson Cortes - A00412356\n",
        "\n"
      ],
      "metadata": {
        "id": "WfnznJohs7lQ"
      }
    },
    {
      "cell_type": "markdown",
      "source": [
        "#1) Filtrar numeros primos."
      ],
      "metadata": {
        "id": "CLJk3lcNLd60"
      }
    },
    {
      "cell_type": "code",
      "source": [
        "lista = []\n",
        "primos = []\n",
        "for i in range (5):\n",
        "  numero = int(input(\"Digite un número: \"))\n",
        "  lista.append(numero)\n",
        "for i in range (0,5,1):\n",
        "  primo = 0\n",
        "  for x in range (2,lista[i],1):\n",
        "    if lista[i] % x != 0:\n",
        "      primo = primo + 1\n",
        "  if primo > 1:\n",
        "    primos.append(lista[i])\n",
        "print(\"De los números digitados, son primos los números: \"+ str(primos))"
      ],
      "metadata": {
        "id": "tB27xiQvRu5g",
        "outputId": "ee644396-c5ed-4fc4-e997-b9d8a5335350",
        "colab": {
          "base_uri": "https://localhost:8080/"
        }
      },
      "execution_count": null,
      "outputs": [
        {
          "output_type": "stream",
          "name": "stdout",
          "text": [
            "Digite un número1\n",
            "Digite un número2\n",
            "Digite un número3\n",
            "Digite un número0\n",
            "Digite un número4\n",
            "De los números digitados, son primos los números: []\n"
          ]
        }
      ]
    },
    {
      "cell_type": "markdown",
      "source": [
        "#6) Control de inventario."
      ],
      "metadata": {
        "id": "Q_h03xFPMm_R"
      }
    },
    {
      "cell_type": "code",
      "source": [
        "def actualizar_inventario(inventario, vendidos):\n",
        "  return [producto for producto in inventario if producto not in vendidos]\n",
        "todos_los_productos = [\"Computador\", \"Televisor\", \"Impresora\", \"Mouse\", \"Teclado\"]\n",
        "productos_vendidos = [\"Televisor\", \"Impresora\", \"Teclado\"]\n",
        "\n",
        "print(\"Inventario actualizado: \", actualizar_inventario(todos_los_productos, productos_vendidos))\n"
      ],
      "metadata": {
        "colab": {
          "base_uri": "https://localhost:8080/"
        },
        "id": "tPsRS9LwMuBg",
        "outputId": "b80fe0f1-4331-4960-d7c8-d2a3a3d809cd"
      },
      "execution_count": null,
      "outputs": [
        {
          "output_type": "stream",
          "name": "stdout",
          "text": [
            "Inventario actualizado:  ['Computador', 'Mouse']\n"
          ]
        }
      ]
    },
    {
      "cell_type": "markdown",
      "source": [
        "#7) Registro de temperaturas."
      ],
      "metadata": {
        "id": "GawejAV8QACg"
      }
    },
    {
      "cell_type": "code",
      "source": [
        "temperaturas_diarias=[25, 18, 32, 29, 15, 22, 35, 28, 19, 31]\n",
        "\n",
        "def contar_temperaturas(temperaturas):\n",
        "  contador_temperatura_alta = 0\n",
        "  contador_temperatura_media = 0\n",
        "  contador_temperatura_baja = 0\n",
        "  for t in temperaturas:\n",
        "    if t > 30:\n",
        "      contador_temperatura_alta += 1\n",
        "    elif 20<= t <= 30:\n",
        "      contador_temperatura_media += 1\n",
        "    elif t < 20:\n",
        "      contador_temperatura_baja += 1\n",
        "  return contador_temperatura_alta, contador_temperatura_media, contador_temperatura_baja\n",
        "\n",
        "altas, medias, bajas = contar_temperaturas(temperaturas_diarias)\n",
        "\n",
        "print(\"La cantidad de dias que la temperatura es mas de 30°C es de \", altas, \" dias\" )\n",
        "print(\"La cantidad de dias que la temperatura estuvo entre 30°C y 20°C es de \", medias, \" dias\" )\n",
        "print(\"La cantidad de dias que la temperatura es mas de 30°C es de \", bajas ,\" dias\")"
      ],
      "metadata": {
        "id": "Ytc0nOqQQIbv",
        "colab": {
          "base_uri": "https://localhost:8080/"
        },
        "outputId": "fc51a180-ef04-45ea-95bc-54b24fc99e58"
      },
      "execution_count": null,
      "outputs": [
        {
          "output_type": "stream",
          "name": "stdout",
          "text": [
            "La cantidad de dias que la temperatura es mas de 30°C es de  3  dias\n",
            "La cantidad de dias que la temperatura estuvo entre 30°C y 20°C es de  4  dias\n",
            "La cantidad de dias que la temperatura es mas de 30°C es de  3  dias\n"
          ]
        }
      ]
    },
    {
      "cell_type": "markdown",
      "source": [
        "#8) Calculo de calorías consumidas."
      ],
      "metadata": {
        "id": "48y3AmhwbC_F"
      }
    },
    {
      "cell_type": "code",
      "source": [
        "alimentos_consumidos = [\"Salchipapa\", \"Aborrajado\", \"Sancocho\", \"Alitas BBQ\", \"Aros de cebolla\"]\n",
        "calorias_correspondientes = [700, 350, 650, 400, 450]\n",
        "\n",
        "def calcular_calorias(alimentos, calorias):\n",
        "  total_calorias= 0\n",
        "  mensaje = \"\"\n",
        "  for cal in calorias:\n",
        "    total_calorias += cal\n",
        "\n",
        "  if total_calorias > 2000:\n",
        "    mensaje += f\"Este es el total de calorias consumidas: {total_calorias}. Cuidado, has consumido mas de 2000 calorias\"\n",
        "  else:\n",
        "    mensaje += f\"Este es el total de calorias consumidas: {total_calorias}. Has consumido menos de 2000 calorias, muy bien\"\n",
        "  return mensaje\n",
        "\n",
        "print(calcular_calorias(alimentos_consumidos, calorias_correspondientes))"
      ],
      "metadata": {
        "id": "MkEUe0NAbIF0",
        "colab": {
          "base_uri": "https://localhost:8080/"
        },
        "outputId": "36128cf5-e2cd-419c-f946-3b40cba34e05"
      },
      "execution_count": null,
      "outputs": [
        {
          "output_type": "stream",
          "name": "stdout",
          "text": [
            "Este es el total de calorias consumidas: 2550. Cuidado, has consumido mas de 2000 calorias\n"
          ]
        }
      ]
    },
    {
      "cell_type": "markdown",
      "source": [
        "# 9) Promedio de ventas mensuales."
      ],
      "metadata": {
        "id": "Q0qJDCSAkt5h"
      }
    },
    {
      "cell_type": "code",
      "source": [
        "ventas_mensuales = [120000, 150000, 180000, 200000, 170000, 160000, 190000, 210000, 140000, 130000, 220000, 250000]\n",
        "\n",
        "def promedio_ventas(ventas):\n",
        "  total_ventas = 0\n",
        "  promedio = 0\n",
        "  for x in ventas:\n",
        "    total_ventas += x\n",
        "\n",
        "  promedio = total_ventas / len(ventas)\n",
        "  por_encima = 0\n",
        "\n",
        "  for x in ventas:\n",
        "    if x > promedio:\n",
        "      por_encima += 1\n",
        "\n",
        "  return promedio, por_encima\n",
        "\n",
        "resultado, mes_encima = promedio_ventas(ventas_mensuales)\n",
        "print(\"El promedio de ventas mesuales es de \", resultado, \"pesos colombianos\")\n",
        "print(\"La cantidad de meses que estuvieron por ensima del promedio es de \", mes_encima)"
      ],
      "metadata": {
        "colab": {
          "base_uri": "https://localhost:8080/"
        },
        "id": "kaQubn4MlIMu",
        "outputId": "334ce1de-da4c-4d30-e2e2-b714b6798de8"
      },
      "execution_count": null,
      "outputs": [
        {
          "output_type": "stream",
          "name": "stdout",
          "text": [
            "El promedio de ventas mesuales es de  176666.66666666666 pesos colombianos\n",
            "La cantidad de meses que estuvieron por ensima del promedio es de  6\n"
          ]
        }
      ]
    },
    {
      "cell_type": "markdown",
      "source": [
        "#10) Sistema de descuentos en una tienda."
      ],
      "metadata": {
        "id": "6-7iaduzoU4f"
      }
    },
    {
      "cell_type": "code",
      "source": [
        "total = float(input(\"Digite el valor total de la compra: \"))\n",
        "def descuento_compra(valor_total):\n",
        "  descuento = 0\n",
        "  if 50 <= valor_total <= 100:\n",
        "    descuento = 0.05\n",
        "  elif 100 < valor_total < 200:\n",
        "    descuento = 0.10\n",
        "  elif valor_total >= 200:\n",
        "    descuento = 0.15\n",
        "  else:\n",
        "    descuento = 0\n",
        "  total_con_descuento = valor_total - (valor_total * descuento)\n",
        "  return total_con_descuento\n",
        "\n",
        "total_con_descuento = descuento_compra(total)\n",
        "print(\"El total con el descuento aplicado es: \", total_con_descuento)\n"
      ],
      "metadata": {
        "colab": {
          "base_uri": "https://localhost:8080/"
        },
        "id": "Yj4UfmnJoeSv",
        "outputId": "de485afc-0b5b-4032-cfd7-c992cd220208"
      },
      "execution_count": null,
      "outputs": [
        {
          "output_type": "stream",
          "name": "stdout",
          "text": [
            "Digite el valor total de la compra: 56\n",
            "El total con el descuento aplicado es:  53.2\n"
          ]
        }
      ]
    },
    {
      "cell_type": "markdown",
      "source": [
        "# 11) Edades prioritarias"
      ],
      "metadata": {
        "id": "cEUXk7zMQg8d"
      }
    },
    {
      "cell_type": "code",
      "source": [
        "nombrePaciente = [\"George\", \"Ana\", \"Samuel\", \"Elias\"]\n",
        "edadPaciente = [40, 65, 70, 50]\n",
        "pacientePrioritario = []\n",
        "def prioridad(listaEdades):\n",
        "    for edades in listaEdades:\n",
        "        if edades > 60:\n",
        "            posicionNombre = listaEdades.index(edades)\n",
        "            pacientePrioritario.append(nombrePaciente[posicionNombre])\n",
        "            print(pacientePrioritario)\n",
        "\n",
        "prioridad(edadPaciente)"
      ],
      "metadata": {
        "colab": {
          "base_uri": "https://localhost:8080/"
        },
        "id": "VK8HBZk1QnwB",
        "outputId": "fb48411f-934a-449f-b654-47eecaf4e86d"
      },
      "execution_count": null,
      "outputs": [
        {
          "output_type": "stream",
          "name": "stdout",
          "text": [
            "['Ana']\n",
            "['Ana', 'Samuel']\n"
          ]
        }
      ]
    },
    {
      "cell_type": "markdown",
      "source": [
        "# 12) Gastos mensuales"
      ],
      "metadata": {
        "id": "tAUhjH0cUP5J"
      }
    },
    {
      "cell_type": "code",
      "source": [
        "categoriaDeGastos = [\"alquiler\", \"comida\", \"transporte\", \"recreacion\"]\n",
        "valorGastos = [600000, 300000, 400000, 200000]\n",
        "def totalGastos(gastosInd):\n",
        "    for gastos in gastosInd:\n",
        "        totalDeGastos = 0\n",
        "        totalDeGastos += gastos\n",
        "    print(f\"El total de los gastos es:  {totalDeGastos}\")\n",
        "totalGastos(valorGastos)\n",
        "\n",
        "def gastoMenor(gastosInd):\n",
        "  for"
      ],
      "metadata": {
        "colab": {
          "base_uri": "https://localhost:8080/"
        },
        "id": "p_-xQSkaUeIB",
        "outputId": "f94c4f86-d9f1-4dda-a00f-9d021427da51"
      },
      "execution_count": null,
      "outputs": [
        {
          "output_type": "stream",
          "name": "stdout",
          "text": [
            "El total de los gastos es:  200000\n"
          ]
        }
      ]
    },
    {
      "cell_type": "markdown",
      "source": [
        "# 13) Control asistencia de eventos"
      ],
      "metadata": {
        "id": "LJMUR7pfZZiK"
      }
    },
    {
      "cell_type": "code",
      "source": [
        "personasRegistradas = [\"Juan\", \"Victoria\", \"Silvia\", \"Diana\", \"Hector\", \"Tomas\", \"Luis\"]\n",
        "personasAsistentes = [\"Victoria\", \"Silvia\", \"Hector\", \"Tomas\", \"Luis\"]\n",
        "def controlAsistencia():\n",
        "  no_asistieron=[]\n",
        "  for persona in personasRegistradas:\n",
        "    if persona not in personasAsistentes:\n",
        "      no_asistieron.append(persona)\n",
        "  return no_asistieron\n",
        "print(\"Las personas que no asistieron son: \", controlAsistencia())"
      ],
      "metadata": {
        "id": "pwG5W-jKZi53",
        "colab": {
          "base_uri": "https://localhost:8080/"
        },
        "outputId": "bd340954-2415-415f-8ae9-d8b1c8e0f7ff"
      },
      "execution_count": null,
      "outputs": [
        {
          "output_type": "stream",
          "name": "stdout",
          "text": [
            "Las personas que no asistieron son:  ['Juan', 'Diana']\n"
          ]
        }
      ]
    },
    {
      "cell_type": "markdown",
      "source": [
        "#14) Recomendación de ejercicio diario."
      ],
      "metadata": {
        "id": "dporKNjMkOfQ"
      }
    },
    {
      "cell_type": "code",
      "source": [
        "minutos_ejercicio = [45, 50, 60, 70, 30, 20, 90]\n",
        "\n",
        "def recomendar_ejercicio(minutos_por_semana):\n",
        "  total_minutos = 0\n",
        "  for minutos in minutos_por_semana:\n",
        "    total_minutos += minutos\n",
        "  promedio = total_minutos / 7\n",
        "  if promedio > 60:\n",
        "      return \"Excelente, estás en forma\"\n",
        "  elif 30 <= promedio <= 60:\n",
        "        return \"Buen trabajo, pero puedes mejorar\"\n",
        "  else:\n",
        "      return \"Debes hacer más ejercicio\"\n",
        "\n",
        "mensaje = recomendar_ejercicio(minutos_ejercicio)\n",
        "print(mensaje)"
      ],
      "metadata": {
        "colab": {
          "base_uri": "https://localhost:8080/"
        },
        "id": "Cfw19n9gketA",
        "outputId": "a75acbee-5e91-4a7d-9c7d-82fa3088db76"
      },
      "execution_count": null,
      "outputs": [
        {
          "output_type": "stream",
          "name": "stdout",
          "text": [
            "Buen trabajo, pero puedes mejorar\n"
          ]
        }
      ]
    }
  ]
}