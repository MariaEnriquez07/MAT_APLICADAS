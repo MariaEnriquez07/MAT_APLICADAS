{
  "cells": [
    {
      "cell_type": "markdown",
      "metadata": {
        "id": "view-in-github",
        "colab_type": "text"
      },
      "source": [
        "<a href=\"https://colab.research.google.com/github/MariaEnriquez07/MAT_APLICADAS/blob/main/laboratorio1.ipynb\" target=\"_parent\"><img src=\"https://colab.research.google.com/assets/colab-badge.svg\" alt=\"Open In Colab\"/></a>"
      ]
    },
    {
      "cell_type": "markdown",
      "metadata": {
        "id": "veWjIubrHqtK"
      },
      "source": [
        "# Laboratorio:\n",
        "- María Camila Córdoba A00412038\n",
        "- Maria Alejandra Enriquez A00412040"
      ]
    },
    {
      "cell_type": "code",
      "execution_count": null,
      "metadata": {
        "colab": {
          "base_uri": "https://localhost:8080/"
        },
        "id": "UW1XbxI7Hoxk",
        "outputId": "e68d61ff-e0b9-41e0-aae2-0da2668011e5"
      },
      "outputs": [
        {
          "output_type": "stream",
          "name": "stdout",
          "text": [
            "Primero, se necesita que ingrese la contraseña. Tiene 3 intentos: 123456\n",
            "Contraseña correcta. Bienvenido.\n",
            "Elija una opcion: \n",
            "1) Consultar saldo\n",
            "2) Depositar\n",
            "3) Retirar\n",
            "4) Transferir\n",
            "5) Salir\n",
            "Seleccione una opción: 5\n",
            "Gracias por usar nuestros servicios.\n"
          ]
        }
      ],
      "source": [
        "\n",
        "import random\n",
        "saldo = random.randint(100000, 10000000)\n",
        "intentos = 0\n",
        "\n",
        "def mostrar_menu():\n",
        "  print(\"Elija una opcion: \")\n",
        "  print(\"1) Consultar saldo\")\n",
        "  print(\"2) Depositar\")\n",
        "  print(\"3) Retirar\")\n",
        "  print(\"4) Transferir\")\n",
        "  print(\"5) Salir\")\n",
        "\n",
        "def consultar_saldo():\n",
        "  global saldo\n",
        "  print(f\"Su saldo actual es de \", saldo, \" COP\")\n",
        "\n",
        "def depositar():\n",
        "  global saldo\n",
        "  cantidadDepo = float(input(\"Ingrese la cantidad a depositar: \"))\n",
        "  if cantidadDepo > 0:\n",
        "    saldo += cantidadDepo\n",
        "    print(\"Se ha depositado con exito. Nuevo saldo: \", saldo)\n",
        "  else:\n",
        "    print(\"Error, saldo insuficiente.\")\n",
        "\n",
        "def retirar():\n",
        "  global saldo\n",
        "  cantidadRetirar = float(input(\"Ingrese la cantidad a retirar: \"))\n",
        "  if cantidadRetirar > 0 and cantidadRetirar <= saldo:\n",
        "    saldo -= cantidadRetirar\n",
        "    print(f\"Se ha retirado con exito {cantidadRetirar} . Nuevo saldo: , {saldo}\")\n",
        "  else:\n",
        "    if cantidadRetirar > saldo:\n",
        "      print(\"Error, saldo insuficiente.\")\n",
        "    else:\n",
        "      print(\"Error, cantidad invalida.\")\n",
        "\n",
        "def transferir():\n",
        "  global saldo\n",
        "  cuenta_destino = input(\"Ingrese el número de cuenta destino: \")\n",
        "  cantidad = float(input(\"Ingrese la cantidad a transferir: \"))\n",
        "  if cantidad > saldo:\n",
        "    print(\"Fondos insuficientes.\")\n",
        "  elif cantidad <= 0:\n",
        "    print(\"Ingrese una cantidad válida.\")\n",
        "  else:\n",
        "    saldo -= cantidad\n",
        "    print(f\"Transferencia exitosa de ${cantidad} a la cuenta {cuenta_destino}. Nuevo saldo: ${saldo}\")\n",
        "\n",
        "\n",
        "#Inicio del codigo principal\n",
        "while intentos < 3:\n",
        "  contraseña = \"123456\"\n",
        "  contraseña_ingresada = input(f\"Primero, se necesita que ingrese la contraseña. Tiene {3-intentos} intentos: \")\n",
        "  if contraseña_ingresada == contraseña:\n",
        "    print(\"Contraseña correcta. Bienvenido.\")\n",
        "\n",
        "    while True:\n",
        "      mostrar_menu()\n",
        "      opcion = input(\"Seleccione una opción: \")\n",
        "\n",
        "      if opcion == \"1\":\n",
        "        consultar_saldo()\n",
        "      elif opcion == \"2\":\n",
        "        depositar()\n",
        "      elif opcion == \"3\":\n",
        "         retirar()\n",
        "      elif opcion == \"4\":\n",
        "        transferir()\n",
        "      elif opcion == \"5\":\n",
        "        print(\"Gracias por usar nuestros servicios.\")\n",
        "        intentos = 3\n",
        "        break\n",
        "  else:\n",
        "    intentos += 1"
      ]
    },
    {
      "cell_type": "code",
      "execution_count": null,
      "metadata": {
        "id": "fMpjY-mLKkMB"
      },
      "outputs": [],
      "source": [
        "\n"
      ]
    }
  ],
  "metadata": {
    "colab": {
      "provenance": [],
      "include_colab_link": true
    },
    "kernelspec": {
      "display_name": "Python 3",
      "name": "python3"
    },
    "language_info": {
      "name": "python"
    }
  },
  "nbformat": 4,
  "nbformat_minor": 0
}