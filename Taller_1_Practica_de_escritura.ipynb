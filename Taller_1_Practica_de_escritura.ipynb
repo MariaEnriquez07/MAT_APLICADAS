{
  "cells": [
    {
      "cell_type": "markdown",
      "metadata": {
        "id": "view-in-github",
        "colab_type": "text"
      },
      "source": [
        "<a href=\"https://colab.research.google.com/github/MariaEnriquez07/MAT_APLICADAS/blob/main/Taller_1_Practica_de_escritura.ipynb\" target=\"_parent\"><img src=\"https://colab.research.google.com/assets/colab-badge.svg\" alt=\"Open In Colab\"/></a>"
      ]
    },
    {
      "cell_type": "markdown",
      "metadata": {
        "id": "_-EWBczjVCaG"
      },
      "source": [
        "Integrantes:\n",
        "\n",
        "\n",
        "*   Maria Camila Cordoba - A00412038\n",
        "*   Maria Alejandra Enriquez - A00412040\n",
        "*   Alvaro Jose Roa Alvarez - A00412341\n",
        "*   Yeisson Cortes - A00412356\n",
        "\n"
      ]
    },
    {
      "cell_type": "markdown",
      "source": [
        "1."
      ],
      "metadata": {
        "id": "mxEc3VOP_TeA"
      }
    },
    {
      "cell_type": "markdown",
      "metadata": {
        "id": "dPi4LlFnVCaJ"
      },
      "source": [
        "Área lateral de un cilindro: $A = 2\\pi r g$"
      ]
    },
    {
      "cell_type": "markdown",
      "metadata": {
        "id": "SIWgk79LVCaK"
      },
      "source": [
        "Área lateral de un cilindro, con r despejada: $r = \\frac{A}{2\\pi g}$"
      ]
    },
    {
      "cell_type": "markdown",
      "metadata": {
        "id": "k58NxwQ6VCaM"
      },
      "source": [
        "Volumen del cono: $V = \\frac{A_{B} \\cdot h}{3}$"
      ]
    },
    {
      "cell_type": "markdown",
      "metadata": {
        "id": "0OAZSN36VCaN"
      },
      "source": [
        "Volumen del cono, con h despejada: $h = \\frac{3 V} {A_{B}}$"
      ]
    },
    {
      "cell_type": "markdown",
      "metadata": {
        "id": "YrhR4jRzVCaN"
      },
      "source": [
        "Volumen de la esfera: $V =  \\frac{4}{3} \\cdot \\pi r^{3}$"
      ]
    },
    {
      "cell_type": "markdown",
      "metadata": {
        "id": "HfvBYqdSVCaO"
      },
      "source": [
        "Volumen de la esfera, con r despajado: $r = \\sqrt[3]{\\frac{3}{4 \\pi} V}$"
      ]
    },
    {
      "cell_type": "markdown",
      "metadata": {
        "id": "amiPRQYMVCaP"
      },
      "source": [
        "Área del trapecio: $A = \\frac{B + b}{2} \\cdot h$"
      ]
    },
    {
      "cell_type": "markdown",
      "metadata": {
        "id": "--W9eQUeVCaP"
      },
      "source": [
        "Área del trapecio, con h despejada: $h = \\frac{2A}{B+b}$"
      ]
    },
    {
      "cell_type": "markdown",
      "metadata": {
        "id": "Lm99vMfAVCaQ"
      },
      "source": [
        "Intensidad eléctrica: $I = \\frac{q}{t}$"
      ]
    },
    {
      "cell_type": "markdown",
      "metadata": {
        "id": "rSoTZtEaVCaQ"
      },
      "source": [
        "Intensidad eléctrica, despejando t:  $t = \\frac{q}{I}$"
      ]
    },
    {
      "cell_type": "markdown",
      "metadata": {
        "id": "_dJQ-JDeVCaQ"
      },
      "source": [
        "Ley de Ohm:  $I = \\frac{V}{R}$"
      ]
    },
    {
      "cell_type": "markdown",
      "metadata": {
        "id": "NRWz0A7DVCaR"
      },
      "source": [
        "Ley de Ohm, despejando R: $R$ = $\\frac{V}{I}$"
      ]
    },
    {
      "cell_type": "markdown",
      "metadata": {
        "id": "TFA_lbY3VCaR"
      },
      "source": [
        "Energia eléctrica: $E = \\frac{V^{2}}{R} \\cdot t$"
      ]
    },
    {
      "cell_type": "markdown",
      "metadata": {
        "id": "uiz4bFEkVCaR"
      },
      "source": [
        "Energia eléctrica, con t despejada: $t = \\frac{E \\cdot R}{V^{2}}$"
      ]
    },
    {
      "cell_type": "markdown",
      "metadata": {
        "id": "RQyskR-9VCaS"
      },
      "source": [
        "Resistencia en paralelo: $\\frac{1}{R} = \\frac{1}{R_{1}} + \\frac{1}{R_2}$"
      ]
    },
    {
      "cell_type": "markdown",
      "metadata": {
        "id": "YWBLY6ItVCaS"
      },
      "source": [
        "Resistencia en paralelo, despejando R: $R= \\frac{R_{1} R_{2}}{R_{1} + R_{2}}$"
      ]
    },
    {
      "cell_type": "markdown",
      "metadata": {
        "id": "sRIq5FVoVCaS"
      },
      "source": [
        "Ecuación gases perfectos: $\\frac{P_{0} V_{0}}{T_{0}} = \\frac{P_{f} V_{f}}{T_{f}}$"
      ]
    },
    {
      "cell_type": "markdown",
      "metadata": {
        "id": "UAlKTinLVCaT"
      },
      "source": [
        "Ecuaciones gases perfectos, despejando $P_{f}$ : $P_{f} = \\frac{P_{0} V_{0} T_{f}}{T_{0} V_{f}}$"
      ]
    },
    {
      "cell_type": "markdown",
      "metadata": {
        "id": "Hb_t9rsqVCaT"
      },
      "source": [
        "Intensidad eléctrica: $I=\\frac{V_{A}-V_{B}}{R}$"
      ]
    },
    {
      "cell_type": "markdown",
      "metadata": {
        "id": "tkiAjQYrVCaT"
      },
      "source": [
        "Intesidad eléctrica, despejando $ V_{B}$ : $V_{B} = R \\cdot I + V_{A }$"
      ]
    },
    {
      "cell_type": "markdown",
      "metadata": {
        "id": "HAU8ThY3VCaT"
      },
      "source": [
        "2."
      ]
    },
    {
      "cell_type": "code",
      "execution_count": null,
      "metadata": {
        "id": "7kUksa20VCaU",
        "colab": {
          "base_uri": "https://localhost:8080/"
        },
        "outputId": "2b1eb5d9-b748-4f36-8b46-fdc9eb0fec52"
      },
      "outputs": [
        {
          "output_type": "execute_result",
          "data": {
            "text/plain": [
              "64"
            ]
          },
          "metadata": {},
          "execution_count": 5
        }
      ],
      "source": [
        "x = (3*(-5 + 10 + (-5))-2*((-2) + (-4) + 10))**(2)\n",
        "x"
      ]
    },
    {
      "cell_type": "code",
      "source": [
        "y = 45+(3*(2+8)-8/4)+10-83\n",
        "y"
      ],
      "metadata": {
        "colab": {
          "base_uri": "https://localhost:8080/"
        },
        "id": "ng8Cq3XedQgN",
        "outputId": "14a6a0db-8331-461d-e086-92136565b432"
      },
      "execution_count": null,
      "outputs": [
        {
          "output_type": "execute_result",
          "data": {
            "text/plain": [
              "0.0"
            ]
          },
          "metadata": {},
          "execution_count": 27
        }
      ]
    },
    {
      "cell_type": "code",
      "source": [
        "z = ((-4 + 7)*2-10)*(-4)-7-3\n",
        "z"
      ],
      "metadata": {
        "colab": {
          "base_uri": "https://localhost:8080/"
        },
        "id": "WYC-8ACOzdNB",
        "outputId": "386a98a0-3939-43ab-ec1f-714e70bbdb7b"
      },
      "execution_count": null,
      "outputs": [
        {
          "output_type": "execute_result",
          "data": {
            "text/plain": [
              "6"
            ]
          },
          "metadata": {},
          "execution_count": 10
        }
      ]
    },
    {
      "cell_type": "markdown",
      "source": [
        "3."
      ],
      "metadata": {
        "id": "4TQf6Waj8XCJ"
      }
    },
    {
      "cell_type": "code",
      "source": [
        "r_1 = 1/5*((1/2)**2+(3/4)**2)+10/25*((1/2)**2+(3/4)**2)+8/40*((1/2)**2+(3/4)**2)\n",
        "print(\"El resultado de la operción es: \", r_1)"
      ],
      "metadata": {
        "colab": {
          "base_uri": "https://localhost:8080/"
        },
        "id": "tLwsIfjY61P8",
        "outputId": "095f90e0-ea61-4b86-d3b6-323e7a575aa3"
      },
      "execution_count": null,
      "outputs": [
        {
          "output_type": "stream",
          "name": "stdout",
          "text": [
            "El resultado de la opercion es:  0.65\n"
          ]
        }
      ]
    },
    {
      "cell_type": "code",
      "source": [
        "r_2 = 9/4*(6/8)**-1-5/2*(25/20)**-1+40/8*(20/16)**-1\n",
        "print(\"El resultado de la operación es: \", r_2)"
      ],
      "metadata": {
        "colab": {
          "base_uri": "https://localhost:8080/"
        },
        "id": "aFMomN2b8xSs",
        "outputId": "d7eb57a6-03a7-40fd-b6da-8423903a8bd3"
      },
      "execution_count": null,
      "outputs": [
        {
          "output_type": "stream",
          "name": "stdout",
          "text": [
            "El resultado de la operación es:  5.0\n"
          ]
        }
      ]
    },
    {
      "cell_type": "markdown",
      "source": [
        "4."
      ],
      "metadata": {
        "id": "XiLv98yE_bRX"
      }
    },
    {
      "cell_type": "code",
      "source": [
        "nombre = input(\"Ingrese su nombre: \")\n",
        "peso = float(input(\"Digite se peso en Kg: \"))\n",
        "altura = float(input(\"Digite su altura (talla) en metros: \"))\n",
        "imc = peso/altura**2\n",
        "print(\"El IMC de \",nombre, \" es: \", imc )"
      ],
      "metadata": {
        "colab": {
          "base_uri": "https://localhost:8080/"
        },
        "id": "6ybzAja9_dEr",
        "outputId": "adb1fd73-875f-4971-d957-7fc3e6f71024"
      },
      "execution_count": null,
      "outputs": [
        {
          "output_type": "stream",
          "name": "stdout",
          "text": [
            "Ingrese su nombre: Maria\n",
            "Digite se peso en Kg: 48\n",
            "Digite su altura (talla) en metros: 1.60\n",
            "El IMC de  Maria  es:  18.749999999999996\n"
          ]
        }
      ]
    },
    {
      "cell_type": "markdown",
      "source": [
        "5."
      ],
      "metadata": {
        "id": "02kjGP_MC7HR"
      }
    },
    {
      "cell_type": "code",
      "source": [
        "num1 = float(input(\"Digite el primer número: \"))\n",
        "num2 = float(input(\"Digite el segundo número: \"))\n",
        "sum = num1 + num2\n",
        "res = num1 - num2\n",
        "multi = num1*num2\n",
        "div = num1/num2\n",
        "print(\"La suma de los dos numeros es: \", sum)\n",
        "print(\"La resta de los dos numeros es: \", res)\n",
        "print(\"El producto de los dos numeros es: \", multi)\n",
        "print(\"El cociente de los dos numeros es: \", div)"
      ],
      "metadata": {
        "colab": {
          "base_uri": "https://localhost:8080/"
        },
        "id": "RF4wj-TcBXQL",
        "outputId": "ecd9fb16-0369-44dc-e3d4-6cc80743c32d"
      },
      "execution_count": null,
      "outputs": [
        {
          "output_type": "stream",
          "name": "stdout",
          "text": [
            "Digite el primer número: 10\n",
            "Digite el segundo número: 2\n",
            "La suma de los dos numeros es:  12.0\n",
            "La resta de los dos numeros es:  8.0\n",
            "El producto de los dos numeros es:  20.0\n",
            "El cociente de los dos numeros es:  5.0\n"
          ]
        }
      ]
    },
    {
      "cell_type": "markdown",
      "source": [
        "6.  **Aplicaciones**"
      ],
      "metadata": {
        "id": "I5Up-kg4C9Us"
      }
    },
    {
      "cell_type": "code",
      "source": [
        "p = [76.24, 77.88, 78.31, 77.22,76.71, 76.45, 77.17]\n",
        "#1 barril ---> 158.9873 Litros\n",
        "#precio CocaCola hoy --> 4,333.33\n",
        "#barril de Cocacola --> 167.28\n",
        "c = [ 167.28/p for p in p ]\n",
        "c"
      ],
      "metadata": {
        "id": "WyWX5Y3VC-_p",
        "colab": {
          "base_uri": "https://localhost:8080/"
        },
        "outputId": "086bcfb5-a432-4ef8-95df-2e4db2431c72"
      },
      "execution_count": null,
      "outputs": [
        {
          "output_type": "execute_result",
          "data": {
            "text/plain": [
              "[2.194123819517314,\n",
              " 2.147919876733436,\n",
              " 2.136125654450262,\n",
              " 2.1662781662781665,\n",
              " 2.1806804849432933,\n",
              " 2.18809679529104,\n",
              " 2.167681741609434]"
            ]
          },
          "metadata": {},
          "execution_count": 1
        }
      ]
    },
    {
      "cell_type": "code",
      "source": [],
      "metadata": {
        "id": "xMJz9nyLHcYY"
      },
      "execution_count": null,
      "outputs": []
    }
  ],
  "metadata": {
    "language_info": {
      "name": "python"
    },
    "colab": {
      "provenance": [],
      "include_colab_link": true
    },
    "kernelspec": {
      "name": "python3",
      "display_name": "Python 3"
    }
  },
  "nbformat": 4,
  "nbformat_minor": 0
}